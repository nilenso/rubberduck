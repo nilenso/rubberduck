{
 "cells": [
  {
   "cell_type": "markdown",
   "id": "7ecc7d43-2dc5-425d-9c71-5492a4677201",
   "metadata": {},
   "source": [
    "# Evaluation"
   ]
  },
  {
   "cell_type": "markdown",
   "id": "1c9f923b-f031-4511-a819-f62e6a125e48",
   "metadata": {},
   "source": [
    "- LLMs are a black box\n",
    "- It's hard to tell if the application works correctly for all inputs by eye-balling the outfor for a few\n",
    "- Regression\n",
    "- Metrics based development\n",
    "- Equilavent to testing"
   ]
  },
  {
   "cell_type": "markdown",
   "id": "5aeb30a0-65f1-4c1e-8a59-fcb0fa0b92cd",
   "metadata": {},
   "source": [
    "### RAGAS Framework"
   ]
  },
  {
   "cell_type": "markdown",
   "id": "fe132863-6468-4b59-809a-93dc3cc789be",
   "metadata": {},
   "source": [
    "- https://docs.ragas.io/en/latest/index.html"
   ]
  },
  {
   "cell_type": "markdown",
   "id": "0acbb14c-8d6d-4c9b-a540-beed1b203928",
   "metadata": {},
   "source": [
    "### Evaluating our application"
   ]
  },
  {
   "cell_type": "code",
   "execution_count": 2,
   "id": "636a26e8-98bf-4770-b785-e8ae007b787b",
   "metadata": {},
   "outputs": [],
   "source": [
    "from datasets import load_dataset\n",
    "from llama_index.core import Document, VectorStoreIndex, Settings\n",
    "from llama_index.embeddings.huggingface import HuggingFaceEmbedding\n",
    "from llama_index.llms.ollama import Ollama"
   ]
  },
  {
   "cell_type": "code",
   "execution_count": 3,
   "id": "81eb04b4-aab3-4c5d-bd2e-bb799379a45d",
   "metadata": {},
   "outputs": [],
   "source": [
    "ds = load_dataset(\"Amod/mental_health_counseling_conversations\", split='train')"
   ]
  },
  {
   "cell_type": "code",
   "execution_count": 8,
   "id": "e4d9fddf-4157-4c15-89b8-b91dbab7fb1a",
   "metadata": {},
   "outputs": [],
   "source": [
    "# bge-base embedding model\n",
    "Settings.embed_model = HuggingFaceEmbedding(model_name=\"BAAI/bge-base-en-v1.5\")\n",
    "\n",
    "# ollama\n",
    "Settings.llm = Ollama(model=\"llama3\", request_timeout=360.0)"
   ]
  },
  {
   "cell_type": "code",
   "execution_count": 9,
   "id": "8f442a8e-a756-46f7-8c49-02bd81dc855b",
   "metadata": {},
   "outputs": [],
   "source": [
    "split = ds.train_test_split()\n",
    "train = [Document(text=f\"Query: {doc['Context']}\\n\\n Response: {doc['Response']}\") for doc in split['train']]\n",
    "test = [Document(text=f\"Query: {doc['Context']}\\n\\n Response: {doc['Response']}\") for doc in split['test']]"
   ]
  },
  {
   "cell_type": "code",
   "execution_count": 10,
   "id": "9dcd9f23-d062-4e84-94fb-0b07fdc41930",
   "metadata": {},
   "outputs": [
    {
     "data": {
      "text/plain": [
       "<llama_index.core.indices.vector_store.base.VectorStoreIndex at 0x3660bcc50>"
      ]
     },
     "execution_count": 10,
     "metadata": {},
     "output_type": "execute_result"
    }
   ],
   "source": [
    "index = VectorStoreIndex.from_documents(train[0:10])\n",
    "index"
   ]
  },
  {
   "cell_type": "code",
   "execution_count": 11,
   "id": "5cedf7ba-e1ba-4ec0-8ef6-6f0d1d9f16ff",
   "metadata": {},
   "outputs": [
    {
     "data": {
      "text/plain": [
       "Response(response=\"It's like when we overgeneralize and focus on one negative emotion, and suddenly, our emotional landscape becomes consumed by anxiety. We might notice ourselves getting stuck in a cycle of thinking about worst-case scenarios or replaying conversations over and over, feeling like we're constantly on edge, even for brief moments. It can be overwhelming, making it hard to breathe or relax, leaving us feeling drained and exhausted.\", source_nodes=[NodeWithScore(node=TextNode(id_='2633747e-a79c-42e3-b95e-413df16201d0', embedding=None, metadata={}, excluded_embed_metadata_keys=[], excluded_llm_metadata_keys=[], relationships={<NodeRelationship.SOURCE: '1'>: RelatedNodeInfo(node_id='26789b67-4095-4adb-a11b-1ab6c69067f8', node_type=<ObjectType.DOCUMENT: '4'>, metadata={}, hash='f6e13642e3299cf557a16565791406b558dfe58d549077fd22ad8d2a45b179ca')}, text='Query: I can\\'t seem to feel any emotion except anxiety, not even for myself.\\n\\n Response: Thank you for posting. \\xa0I\\'m interested to hear some more information; such as, if you live by yourself or family, if you go to school/employed/unemployed, and what kind of things do you like to do with friends or by yourself. \\xa0Often times, when we are experiencing a strong emotion that we interpret as negative, we put most of our focus on that negative emotion and struggle to see that we do not always\\xa0feel that specific emotion. \\xa0There are typically points in the day (even if it is for only in 1 minute intervals) when we do not feel that negative emotion. \\xa0When we overgeneralize, we use words like \"always\" or \"never\" and when we use those words and it may not be totally true, we feel the negative emotion based on an inaccuracy which is not fair to you. \\xa0Ask yourself some of these questions: Am I being realistic when I\\'m overgeneralizing things? Have I ever noticed a short period of time that I wasn\\'t feeling anxious? \\xa0What do I notice when I am feeling anxious? What am I thinking about? \\xa0When was the last time I felt empathy? \\xa0What was different when I was able to feel empathy? \\xa0Hopefully this helps get you started.', mimetype='text/plain', start_char_idx=0, end_char_idx=1222, text_template='{metadata_str}\\n\\n{content}', metadata_template='{key}: {value}', metadata_seperator='\\n'), score=0.6018324726092483), NodeWithScore(node=TextNode(id_='9dee4b53-f785-4ac8-941f-6f642c9b8c78', embedding=None, metadata={}, excluded_embed_metadata_keys=[], excluded_llm_metadata_keys=[], relationships={<NodeRelationship.SOURCE: '1'>: RelatedNodeInfo(node_id='9b0104cb-f3f5-4803-86ac-98718fabb4f4', node_type=<ObjectType.DOCUMENT: '4'>, metadata={}, hash='1c095175221ec3884aef047b6583ea77513558b81ad3ea8468c9575a39cd4fbc')}, text=\"Query: I don't have time to live or take care of myself at times. It's causing depression, stress, and anxiety. I don't know what to do.\\n\\n Response: I'm not sure whether you are referring to having a lot of activities after school or that homework is overwhelming. Can you set aside a couple hours a week for yourself as a place to start?\", mimetype='text/plain', start_char_idx=0, end_char_idx=338, text_template='{metadata_str}\\n\\n{content}', metadata_template='{key}: {value}', metadata_seperator='\\n'), score=0.5458373291266964)], metadata={'2633747e-a79c-42e3-b95e-413df16201d0': {}, '9dee4b53-f785-4ac8-941f-6f642c9b8c78': {}})"
      ]
     },
     "execution_count": 11,
     "metadata": {},
     "output_type": "execute_result"
    }
   ],
   "source": [
    "query_engine = index.as_query_engine()\n",
    "response = query_engine.query(\"What is it like having a panic attack?\")\n",
    "response"
   ]
  },
  {
   "cell_type": "code",
   "execution_count": 12,
   "id": "deb55685-ca63-4535-b2cb-02a90c8729f0",
   "metadata": {},
   "outputs": [],
   "source": [
    "from ragas.testset.generator import TestsetGenerator\n",
    "from ragas.testset.evolutions import simple, reasoning, multi_context"
   ]
  },
  {
   "cell_type": "code",
   "execution_count": 13,
   "id": "cd719820-6418-4970-a6dd-fbd1a9cf33d7",
   "metadata": {},
   "outputs": [],
   "source": [
    "generator_llm = Ollama(model='llama3', request_timeout=300.0)\n",
    "critic_llm = Ollama(model='llama3', request_timeout=300.0)\n",
    "embeddings = HuggingFaceEmbedding(model_name=\"BAAI/bge-base-en-v1.5\")\n",
    "\n",
    "generator = TestsetGenerator.from_llama_index(\n",
    "    generator_llm,\n",
    "    critic_llm,\n",
    "    embeddings\n",
    ")"
   ]
  },
  {
   "cell_type": "code",
   "execution_count": 19,
   "id": "6b4ef256-1c28-4d92-99b2-1908a1929cc9",
   "metadata": {},
   "outputs": [],
   "source": [
    "distributions = {\n",
    "    simple: 1,\n",
    "    multi_context: 0,\n",
    "    reasoning: 0,\n",
    "}"
   ]
  },
  {
   "cell_type": "code",
   "execution_count": null,
   "id": "26d98c55-a49b-47c6-b133-e93189ab8c2b",
   "metadata": {},
   "outputs": [
    {
     "data": {
      "application/vnd.jupyter.widget-view+json": {
       "model_id": "36fc73c65b934955afa9f5e983377ce4",
       "version_major": 2,
       "version_minor": 0
      },
      "text/plain": [
       "embedding nodes:   0%|          | 0/100 [00:00<?, ?it/s]"
      ]
     },
     "metadata": {},
     "output_type": "display_data"
    }
   ],
   "source": [
    "testset = generator.generate_with_llamaindex_docs(train[0:50], test_size=10, distributions=distributions)"
   ]
  },
  {
   "cell_type": "code",
   "execution_count": 21,
   "id": "960a7487-b97b-494a-a971-25fa4d99cfd5",
   "metadata": {},
   "outputs": [
    {
     "name": "stdout",
     "output_type": "stream",
     "text": [
      "question='Based on the given context, a question that can be fully answered from the provided text is:\\n\\n\"What are some common concerns people may have when considering opening up to their parents about depression?' contexts=['Query: I am not sure if I am depressed. I don\\'t know how to bring it up to my parents, and that makes me miserable.\\n\\n Response: You are not alone, many people fear opening up to family members about the topic of depression or mental illness. There are many different reason why some may fear telling their parents. The most common thoughts I hear in my office are: \" My parents won\\'t understand me\", I may cause more problems to the family\", \"I am worried that something bad may happen if I tell them\".\\xa0If possible express your current concerns and worries to your parents. You can start the conversation with your parents by saying \"I have not been feeling like myself lately, and I may want to see a counselor\".\\xa0I think you are doing the right thing by going on this website and asking for help. Just a helpful tip: positive self-talk can be beneficial before having difficult conversations with others. For example, tell yourself something positive before talking to your parents such as \"I feel confident in myself, and I am doing this to overcome my fear of talking to my parents\" can help to decrease the anxiety you are feeling leading up to the conversation.\\xa0I would recommend if you are feeling depressed or down it would be beneficial to seek counseling to understand your current thoughts and behaviors. Best of luck and hope you decide to start counseling.'] ground_truth=\"Some common thoughts I hear in my office are: 'My parents won't understand me', I may cause more problems to the family', 'I am worried that something bad may happen if I tell them'.\" evolution_type='simple' metadata=[{}]\n"
     ]
    }
   ],
   "source": [
    "print(testset.test_data[0])"
   ]
  },
  {
   "cell_type": "code",
   "execution_count": null,
   "id": "f3406aad-8d3e-4d32-a324-d5ab74b92801",
   "metadata": {},
   "outputs": [],
   "source": []
  }
 ],
 "metadata": {
  "kernelspec": {
   "display_name": "Python 3 (ipykernel)",
   "language": "python",
   "name": "python3"
  },
  "language_info": {
   "codemirror_mode": {
    "name": "ipython",
    "version": 3
   },
   "file_extension": ".py",
   "mimetype": "text/x-python",
   "name": "python",
   "nbconvert_exporter": "python",
   "pygments_lexer": "ipython3",
   "version": "3.12.4"
  }
 },
 "nbformat": 4,
 "nbformat_minor": 5
}
